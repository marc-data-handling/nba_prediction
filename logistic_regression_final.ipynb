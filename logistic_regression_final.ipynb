{
 "cells": [
  {
   "cell_type": "code",
   "execution_count": null,
   "id": "2c53a250-9386-4eb5-a52f-f3d963cce7d9",
   "metadata": {},
   "outputs": [],
   "source": [
    "#First we import all packeges we need\n",
    "import numpy as np # Numerical computing\n",
    "import pandas as pd # Dataframes\n",
    "from sklearn.model_selection import train_test_split\n",
    "from sklearn.model_selection import cross_validate, cross_val_predict, cross_val_score # CV function\n",
    "from sklearn.metrics import make_scorer, classification_report, confusion_matrix # Metrics\n",
    "from sklearn.decomposition import PCA\n",
    "from imblearn.over_sampling import SMOTE\n",
    "from sklearn.linear_model import LogisticRegression # Logistic regression\n",
    "from sklearn.preprocessing import PolynomialFeatures\n",
    "from sklearn.preprocessing import StandardScaler\n",
    "from imblearn.pipeline import Pipeline "
   ]
  },
  {
   "cell_type": "code",
   "execution_count": null,
   "id": "f93b300b-07a0-4a36-9163-562adead4dc6",
   "metadata": {},
   "outputs": [],
   "source": [
    "#We import our cleanded data frame\n",
    "df = pd.read_csv(\"data/df_cleaned.csv\")\n",
    "#To run our models we have to be sure that there are no NaN's\n",
    "df.isnull().sum().max()"
   ]
  },
  {
   "cell_type": "code",
   "execution_count": null,
   "id": "5af03e9c-30f2-41c5-b69f-f4fdca603f3d",
   "metadata": {},
   "outputs": [],
   "source": [
    "#Now we have to build two subsets of our data set\n",
    "#X should contain all variables that help us to evaluate the target variable\n",
    "#y contains the target variable\n",
    "X = df.drop(columns=['PO_1._R','PO_2._R','Conf._Fin', 'Finals','Champion'])\n",
    "#Here we enter one of our five target variables \n",
    "y = df[\"PO_2._R\"]\n",
    "#We split our data frame, so that we can test our final models\n",
    "X_train, X_test, y_train, y_test = train_test_split(X, y, test_size=0.33, random_state=72)"
   ]
  },
  {
   "cell_type": "code",
   "execution_count": null,
   "id": "c8f87ef9-b032-4b65-8431-3d30877e4c15",
   "metadata": {},
   "outputs": [],
   "source": [
    "#We define all pre-processing steps of our data to fit them in a pipeline\n",
    "#We need the pipeline to be able to cross-validate our models properly\n",
    "#When we don't use the pipline we risk data leakage and our cross-validation is not accurate\n",
    "smt = SMOTE(random_state=0)\n",
    "scaler = StandardScaler()\n",
    "pca = PCA(n_components=10)\n",
    "logistic = LogisticRegression()\n",
    "pipe= Pipeline(steps = [['scaler', scaler],['pca',pca],['smote', smt],['classifier', logistic]])"
   ]
  },
  {
   "cell_type": "code",
   "execution_count": null,
   "id": "7d1a022a-b359-4aa5-a24c-e0b000f2a3f4",
   "metadata": {},
   "outputs": [],
   "source": [
    "#With npoly we define the polynomial degree of our models to build and validate\n",
    "npoly = range(1,4)\n",
    "#Instantiate a list to keep track of the accuracy in cross-validation of our different logistic regressions\n",
    "acc_list=[]\n",
    "#Now we build as many models as we defined in nestimators and cross-validate each one            \n",
    "for poly_degree in npoly:\n",
    "    poly = PolynomialFeatures(degree = poly_degree, interaction_only=False, include_bias=False)\n",
    "    X_poly = poly.fit_transform(X_train)\n",
    "    \n",
    "    #Fit it to the data\n",
    "    y_train = np.array(y_train).astype(int)\n",
    "    y_train = y_train.ravel()\n",
    "    pipe.fit(X_poly, y_train)\n",
    "    \n",
    "    #Run cross-validation\n",
    "    accuracy=cross_val_score(pipe, poly.transform(X_train), y_train, scoring='accuracy',cv=10)\n",
    "      \n",
    "    #Store the mean of the cross-validation scores of each model\n",
    "    acc_list.append(accuracy.mean())\n",
    "\n",
    "#Now we evaluate how many estimators the model with the highest accuracy in cross-validation had\n",
    "best = np.argmax(acc_list)\n",
    "final_model_poly=npoly[best]\n",
    "print(final_model_poly)"
   ]
  },
  {
   "cell_type": "code",
   "execution_count": null,
   "id": "45922ec4-4d5b-4243-a716-f30a3fe18c7e",
   "metadata": {},
   "outputs": [],
   "source": [
    "#We rebuild our best model to get all important stats\n",
    "poly = PolynomialFeatures(degree = final_model_poly, interaction_only=False, include_bias=False)\n",
    "X_poly = poly.fit_transform(X_train)\n",
    "\n",
    "# Fit it to the data\n",
    "pipe.fit(X_train, y_train)\n",
    "\n",
    "       \n",
    "# Create custom scorers for false positive rate and false negative rates\n",
    "fpos_rate = lambda y_true, y_pred: np.mean(y_pred[np.where(y_true == 0)])\n",
    "fneg_rate = lambda y_true, y_pred: 1 - np.mean(y_pred[np.where(y_true == 1)])\n",
    "fpos_scorer = make_scorer(fpos_rate, greater_is_better=False)\n",
    "fneg_scorer = make_scorer(fneg_rate, greater_is_better=False)\n",
    "\n",
    "# Estimate 10-fold cross-validation, return accuracy, FPR, FNR\n",
    "nfolds = 10\n",
    "cv_results = cross_validate(pipe, poly.transform(X_train), y_train, return_train_score=True , cv=nfolds,\n",
    "scoring={\"accuracy\": \"accuracy\", \"fpr\": fpos_scorer, \"fnr\": fneg_scorer,})\n",
    "\n",
    "# Compute the metrics for the cross-validation\n",
    "misclass_cv = 1 - cv_results[\"test_accuracy\"]\n",
    "accuracy_cv= cv_results[\"test_accuracy\"]\n",
    "false_pos_cv = -cv_results[\"test_fpr\"]\n",
    "false_neg_cv = -cv_results[\"test_fnr\"]\n",
    "\n",
    "# Quick and dirty helpers to compute mean and standard error thereof\n",
    "mean_and_se = lambda x, n: (np.mean(100 * x), np.std(100 * x) / np.sqrt(n))\n",
    "# Compute means and standard errors\n",
    "misclass_mean, misclass_se = mean_and_se(misclass_cv, nfolds)\n",
    "accuracy_mean, accuracy_se = mean_and_se(accuracy_cv, nfolds)\n",
    "false_pos_mean, false_pos_se = mean_and_se(false_pos_cv, nfolds)\n",
    "false_neg_mean, false_neg_se = mean_and_se(false_neg_cv, nfolds)\n",
    "\n",
    "#Now we print our important metrics\n",
    "print(f\"The mean missclassification rate is {misclass_mean:.2f}% (± {misclass_se:.2f}%)\")\n",
    "print(f\"The mean accuracy is: {accuracy_mean:.2f}% (± {accuracy_se:.2f}%)\")\n",
    "print(f\"The mean false positive rate is {false_pos_mean:.2f}% (± {false_pos_se:.2f}%)\")\n",
    "print(f\"The mean false negative rate is {false_neg_mean:.2f}% (± {false_neg_se:.2f}%)\")\n",
    "\n",
    "#Now we evaluate precision and recall with the function classification_report and print the confusion matrix\n",
    "y_pred = cross_val_predict(pipe, X_train, y_train, cv=10)\n",
    "class_report = classification_report(y_train, y_pred)\n",
    "print(class_report)\n",
    "conf_matrix=confusion_matrix(y_train,y_pred)\n",
    "print(conf_matrix)"
   ]
  },
  {
   "cell_type": "code",
   "execution_count": null,
   "id": "5f98dee1-0aa6-4e78-bbfe-c69afdbe908e",
   "metadata": {},
   "outputs": [],
   "source": [
    "#Now we test our final model for the prediction of the first and second round of the playoff\n",
    "pipe.fit(X_train, y_train)\n",
    "y_pred = pipe.predict(X_test)\n",
    "class_report = classification_report(y_test, y_pred)\n",
    "print(class_report)\n",
    "conf_matrix=confusion_matrix(y_test,y_pred)\n",
    "print(conf_matrix)"
   ]
  }
 ],
 "metadata": {
  "kernelspec": {
   "display_name": "Python 3 (ipykernel)",
   "language": "python",
   "name": "python3"
  },
  "language_info": {
   "codemirror_mode": {
    "name": "ipython",
    "version": 3
   },
   "file_extension": ".py",
   "mimetype": "text/x-python",
   "name": "python",
   "nbconvert_exporter": "python",
   "pygments_lexer": "ipython3",
   "version": "3.8.13"
  }
 },
 "nbformat": 4,
 "nbformat_minor": 5
}
