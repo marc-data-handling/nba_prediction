{
 "cells": [
  {
   "cell_type": "code",
   "execution_count": null,
   "id": "c86a9f5c-9284-4cb1-b48c-59b27708814e",
   "metadata": {},
   "outputs": [],
   "source": [
    "#First we import all packeges we need\n",
    "import numpy as np # Numerical computing\n",
    "import pandas as pd # Dataframes\n",
    "from sklearn.model_selection import train_test_split\n",
    "from sklearn.model_selection import cross_validate, cross_val_predict# CV function\n",
    "from sklearn.metrics import make_scorer, classification_report, confusion_matrix # Metrics\n",
    "from sklearn.decomposition import PCA\n",
    "from imblearn.over_sampling import SMOTE\n",
    "from sklearn.preprocessing import StandardScaler\n",
    "from imblearn.pipeline import Pipeline \n",
    "from sklearn.neural_network import MLPClassifier\n",
    "from sklearn.model_selection import GridSearchCV"
   ]
  },
  {
   "cell_type": "code",
   "execution_count": null,
   "id": "fc3fc45f-1856-4ac5-9319-51792825a83e",
   "metadata": {},
   "outputs": [],
   "source": [
    "#We import our cleanded data frame\n",
    "df = pd.read_csv(\"data/df_cleaned.csv\")\n",
    "#To run our models we have to be sure that there are no NaN's\n",
    "df.isnull().sum().max()"
   ]
  },
  {
   "cell_type": "code",
   "execution_count": null,
   "id": "ac72ce52-e0f9-4d7f-8f96-eaea07b781cc",
   "metadata": {},
   "outputs": [],
   "source": [
    "#Now we have to build two subsets of our data set\n",
    "#X should contain all variables that help us to evaluate the target variable\n",
    "#y contains the target variable\n",
    "X = df.drop(columns=['PO_1._R','PO_2._R','Conf._Fin', 'Finals','Champion'])\n",
    "#Here we enter one of our five target variables \n",
    "y = df[\"Champion\"]\n",
    "#We split our data frame, so that we can test our final models\n",
    "X_train, X_test, y_train, y_test = train_test_split(X, y, test_size=0.33, random_state=72)"
   ]
  },
  {
   "cell_type": "code",
   "execution_count": null,
   "id": "1688c5e5-6f5c-4ecf-bc4c-acb0ab915519",
   "metadata": {},
   "outputs": [],
   "source": [
    "#We define all pre-processing steps of our data to fit them in a pipeline\n",
    "#We need the pipeline to be able to cross-validate our models properly\n",
    "#When we don't use the pipline we risk data leakage and our cross-validation is not accurate\n",
    "smt = SMOTE(random_state=0)\n",
    "scaler = StandardScaler()\n",
    "pca = PCA(n_components=10)\n",
    "nnet = MLPClassifier(solver=\"lbfgs\", random_state=42)\n",
    "pipe= Pipeline(steps = [['scaler', scaler],['pca',pca],['smote', smt],['classifier', nnet]])\n",
    "\n",
    "#Now we define which parameters of the algorithms should be optimized\n",
    "param_grid = {\n",
    "              \"classifier__max_iter\":[500,1000,1500],\n",
    "              \"classifier__hidden_layer_sizes\": np.arange(5, 12),\n",
    "                \"classifier__alpha\": 10.0 ** -np.arange(1, 7),\n",
    "              }\n",
    "\n",
    "#Now we run the grid search function that searches for the parameters with the highest accuracy score in the cross-validation \n",
    "grid_search = GridSearchCV(pipe, param_grid, cv=10, scoring='accuracy')\n",
    "grid_search.fit(X_train, y_train)\n",
    "\n",
    "#Finally, we store the best model\n",
    "best_model = grid_search.best_estimator_\n",
    "best_score=grid_search.best_score_\n",
    "print(best_model)\n",
    "print(best_score)"
   ]
  },
  {
   "cell_type": "code",
   "execution_count": null,
   "id": "8d3ad68f-3a06-4ee2-a8c9-3e96273bc560",
   "metadata": {},
   "outputs": [],
   "source": [
    "#Now we evaluate all relevant metrics for our best_model to compare its score to the other models\n",
    "\n",
    "# Create custom scorers for false positive rate and false negative rates\n",
    "fpos_rate = lambda y_true, y_pred: np.mean(y_pred[np.where(y_true == 0)])\n",
    "fneg_rate = lambda y_true, y_pred: 1 - np.mean(y_pred[np.where(y_true == 1)])\n",
    "fpos_scorer = make_scorer(fpos_rate, greater_is_better=False)\n",
    "fneg_scorer = make_scorer(fneg_rate, greater_is_better=False)\n",
    "\n",
    "# Estimate 10-fold cross-validation, return accuracy, FPR, FNR\n",
    "nfolds = 10\n",
    "cv_results = cross_validate(best_model, X_train, y_train, return_train_score=True , cv=nfolds,\n",
    "scoring={\"accuracy\": \"accuracy\", \"fpr\": fpos_scorer, \"fnr\": fneg_scorer,})\n",
    "\n",
    "# Compute the metrics for the cross-validation\n",
    "misclass_cv = 1 - cv_results[\"test_accuracy\"]\n",
    "accuracy_cv= cv_results[\"test_accuracy\"]\n",
    "false_pos_cv = -cv_results[\"test_fpr\"]\n",
    "false_neg_cv = -cv_results[\"test_fnr\"]\n",
    "\n",
    "\n",
    "# Quick and dirty helpers to compute mean and standard error thereof\n",
    "mean_and_se = lambda x, n: (np.mean(100 * x), np.std(100 * x) / np.sqrt(n))\n",
    "# Compute means and standard errors\n",
    "misclass_mean, misclass_se = mean_and_se(misclass_cv, nfolds)\n",
    "accuracy_mean, accuracy_se = mean_and_se(accuracy_cv, nfolds)\n",
    "false_pos_mean, false_pos_se = mean_and_se(false_pos_cv, nfolds)\n",
    "false_neg_mean, false_neg_se = mean_and_se(false_neg_cv, nfolds)\n",
    "\n",
    "#Now we print our important metrics\n",
    "print(f\"The mean missclassification rate is {misclass_mean:.2f}% (± {misclass_se:.2f}%)\")\n",
    "print(f\"The mean accuracy is: {accuracy_mean:.2f}% (± {accuracy_se:.2f}%)\")\n",
    "print(f\"The mean false positive rate is {false_pos_mean:.2f}% (± {false_pos_se:.2f}%)\")\n",
    "print(f\"The mean false negative rate is {false_neg_mean:.2f}% (± {false_neg_se:.2f}%)\")\n",
    "\n",
    "#Now we evaluate precision and recall with the function classification_report and print the confusion matrix\n",
    "ypred=cross_val_predict(best_model, X_test, y_test)\n",
    "print(classification_report(y_test,ypred))\n",
    "conf_matrix=confusion_matrix(y_test,ypred)\n",
    "print(conf_matrix)"
   ]
  },
  {
   "cell_type": "code",
   "execution_count": null,
   "id": "2d62ad9f-36ff-435a-b9ab-b4c6cd11ca5c",
   "metadata": {},
   "outputs": [],
   "source": [
    "#Now we test the final models for the champion and finals prediction\n",
    "best_model.fit(X_train, y_train)\n",
    "y_pred = best_model.predict(X_test)\n",
    "class_report = classification_report(y_test, y_pred)\n",
    "print(class_report)\n",
    "conf_matrix=confusion_matrix(y_test,y_pred)\n",
    "print(conf_matrix)"
   ]
  }
 ],
 "metadata": {
  "kernelspec": {
   "display_name": "Python 3 (ipykernel)",
   "language": "python",
   "name": "python3"
  },
  "language_info": {
   "codemirror_mode": {
    "name": "ipython",
    "version": 3
   },
   "file_extension": ".py",
   "mimetype": "text/x-python",
   "name": "python",
   "nbconvert_exporter": "python",
   "pygments_lexer": "ipython3",
   "version": "3.9.12"
  }
 },
 "nbformat": 4,
 "nbformat_minor": 5
}
